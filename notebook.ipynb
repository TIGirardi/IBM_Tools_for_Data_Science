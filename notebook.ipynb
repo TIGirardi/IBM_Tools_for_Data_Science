{
 "cells": [
  {
   "cell_type": "markdown",
   "metadata": {},
   "source": [
    "<center>\n",
    "    <img src=\"https://s3-api.us-geo.objectstorage.softlayer.net/cf-courses-data/CognitiveClass/Logos/organization_logo/organization_logo.png\" width=\"300\" alt=\"cognitiveclass.ai logo\"  />\n",
    "</center>\n"
   ]
  },
  {
   "cell_type": "markdown",
   "metadata": {
    "tags": []
   },
   "source": [
    "#### Add your code below following the instructions given in the course\n"
   ]
  },
  {
   "cell_type": "markdown",
   "metadata": {},
   "source": [
    "# My Jupyter Notebook on IBM Watson Studio"
   ]
  },
  {
   "cell_type": "markdown",
   "metadata": {},
   "source": [
    "**Tiago Illipronti Girardi**  \n",
    "Geophysicist"
   ]
  },
  {
   "cell_type": "markdown",
   "metadata": {},
   "source": [
    "*I'm interested in data science so I can better interpret and correlate well bore and seismic data*"
   ]
  },
  {
   "cell_type": "markdown",
   "metadata": {},
   "source": [
    "### Sum the first 10 positive integers"
   ]
  },
  {
   "cell_type": "code",
   "execution_count": 1,
   "metadata": {},
   "outputs": [
    {
     "data": {
      "text/plain": [
       "55"
      ]
     },
     "execution_count": 1,
     "metadata": {},
     "output_type": "execute_result"
    }
   ],
   "source": [
    "sum(range(1, 11))"
   ]
  },
  {
   "cell_type": "markdown",
   "metadata": {
    "tags": []
   },
   "source": [
    "### Explanation\n",
    "\n",
    "---\n",
    "\n",
    "The above code is a Python one liner. It behaves like the following longer version:\n",
    "\n",
    "```python\n",
    "res = 0\n",
    "for i in range(1, 11):\n",
    "    res += i\n",
    "print(res)\n",
    "``` \n",
    "\n",
    "Remember that `range(1, 11)` creates a sequence that corresponds to the numbers 1 to 10 (the end is not included).\n",
    "\n",
    "Observe that one could have used `range(11)`, which would start at zero, but the sum would be the same.\n",
    "\n",
    "For the documentation, click on the following links: ~~ [~~`range`~~](https://docs.python.org/3/library/functions.html#func-range) ~~ [`range`](https://docs.python.org/3/library/stdtypes.html#range)  and [`sum`](https://docs.python.org/3/library/functions.html#sum)\n"
   ]
  }
 ],
 "metadata": {
  "kernelspec": {
   "display_name": "Python",
   "language": "python",
   "name": "conda-env-python-py"
  },
  "language_info": {
   "codemirror_mode": {
    "name": "ipython",
    "version": 3
   },
   "file_extension": ".py",
   "mimetype": "text/x-python",
   "name": "python",
   "nbconvert_exporter": "python",
   "pygments_lexer": "ipython3",
   "version": "3.7.12"
  }
 },
 "nbformat": 4,
 "nbformat_minor": 4
}
